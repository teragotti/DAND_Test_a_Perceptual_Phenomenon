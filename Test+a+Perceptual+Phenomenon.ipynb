{
 "cells": [
  {
   "cell_type": "markdown",
   "metadata": {},
   "source": [
    "### Analyzing the Stroop Effect\n",
    "Perform the analysis in the space below. Remember to follow [the instructions](https://docs.google.com/document/d/1-OkpZLjG_kX9J6LIQ5IltsqMzVWjh36QpnP2RYpVdPU/pub?embedded=True) and review the [project rubric](https://review.udacity.com/#!/rubrics/71/view) before submitting. Once you've completed the analysis and write up, download this file as a PDF or HTML file and submit in the next section.\n",
    "\n",
    "\n",
    "(1) What is the independent variable? What is the dependent variable?"
   ]
  },
  {
   "cell_type": "markdown",
   "metadata": {},
   "source": [
    "the dependent variable, where we hope to change is:\n",
    "- the time it takes to name the ink colors\n",
    "\n",
    "the independent variables are controlled by the experimenting scientist: \n",
    "- colour of the words displayed\n",
    "- the number of congruent and incongruent words displayed\n",
    "- the number of different colours used\n"
   ]
  },
  {
   "cell_type": "markdown",
   "metadata": {},
   "source": [
    "(2) What is an appropriate set of hypotheses for this task? What kind of statistical test do you expect to perform? Justify your choices."
   ]
  },
  {
   "cell_type": "markdown",
   "metadata": {},
   "source": [
    "H0: There is no difference in population means of response time under congruent and incongruent scenarios, \n",
    "H0: μC = μI\n",
    "\n",
    "Ha: The population mean of the response time under congruent and incongruent scenarios are significantly different.\n",
    "Ha: μC != μI\n",
    "\n",
    "μ is defined as the population mean.\n",
    "\n",
    "As we do not have the population data available but only 24 paired samples of the congruent and incongruent words test we cannot use a z-test. Due to the small sample size a t-test suits best.\n",
    "I will perform a paired sample t-test, two-tailed to compare the two means that are from the same group of people"
   ]
  },
  {
   "cell_type": "markdown",
   "metadata": {},
   "source": [
    "(3) Report some descriptive statistics regarding this dataset. Include at least one measure of central tendency and at least one measure of variability. The name of the data file is 'stroopdata.csv'."
   ]
  },
  {
   "cell_type": "code",
   "execution_count": 1,
   "metadata": {},
   "outputs": [
    {
     "data": {
      "text/html": [
       "<script>requirejs.config({paths: { 'plotly': ['https://cdn.plot.ly/plotly-latest.min']},});if(!window.Plotly) {{require(['plotly'],function(plotly) {window.Plotly=plotly;});}}</script>"
      ],
      "text/vnd.plotly.v1+html": [
       "<script>requirejs.config({paths: { 'plotly': ['https://cdn.plot.ly/plotly-latest.min']},});if(!window.Plotly) {{require(['plotly'],function(plotly) {window.Plotly=plotly;});}}</script>"
      ]
     },
     "metadata": {},
     "output_type": "display_data"
    },
    {
     "name": "stdout",
     "output_type": "stream",
     "text": [
      "    Congruent  Incongruent\n",
      "0      12.079       19.278\n",
      "1      16.791       18.741\n",
      "2       9.564       21.214\n",
      "3       8.630       15.687\n",
      "4      14.669       22.803\n",
      "5      12.238       20.878\n",
      "6      14.692       24.572\n",
      "7       8.987       17.394\n",
      "8       9.401       20.762\n",
      "9      14.480       26.282\n",
      "10     22.328       24.524\n",
      "11     15.298       18.644\n",
      "12     15.073       17.510\n",
      "13     16.929       20.330\n",
      "14     18.200       35.255\n",
      "15     12.130       22.158\n",
      "16     18.495       25.139\n",
      "17     10.639       20.429\n",
      "18     11.344       17.425\n",
      "19     12.369       34.288\n",
      "20     12.944       23.894\n",
      "21     14.233       17.960\n",
      "22     19.710       22.058\n",
      "23     16.004       21.157\n",
      "Mean: Congruent      14.051125\n",
      "Incongruent    22.015917\n",
      "dtype: float64\n",
      "Median congruent: 14.3565\n",
      "Median incongruent: 21.0175\n",
      "Standard deviation of the mean sample: Congruent      3.559358\n",
      "Incongruent    4.797057\n",
      "dtype: float64\n",
      "IQR Congruent min - max: [5.4370000000000029, 22.658999999999999]\n",
      "IQR Incongruent min - max: [10.714625000000002, 32.053624999999997]\n"
     ]
    }
   ],
   "source": [
    "import pandas as pd\n",
    "import numpy as np\n",
    "import plotly.offline as py\n",
    "import plotly.graph_objs as go\n",
    "py.init_notebook_mode(connected=True) #https://plot.ly/python/getting-started/\n",
    "#z-table https://s3.amazonaws.com/udacity-hosted-downloads/ZTable.jpg\n",
    "#https://stackoverflow.com/questions/20864847/probability-to-z-score-and-vice-versa-in-python\n",
    "import scipy.stats as st\n",
    "\n",
    "url = 'stroopdata.csv'\n",
    "df = pd.read_csv(url)\n",
    "print (df)\n",
    "\n",
    "print (\"Mean:\", np.mean(df))\n",
    "print (\"Median congruent:\", np.percentile(df.Congruent, 50))\n",
    "print (\"Median incongruent:\", np.percentile(df.Incongruent, 50))\n",
    "print (\"Standard deviation of the mean sample:\", np.std(df, ddof=1))\n",
    "\n",
    "#calc quartile\n",
    "def IQR_range(Q1,Q3):\n",
    "    IQR = Q3 - Q1\n",
    "    outlier_min = Q1 - 1.5*IQR\n",
    "    outlier_max = Q3 + 1.5*IQR\n",
    "    return [outlier_min, outlier_max]\n",
    "\n",
    "Q1, Q3 = (np.percentile(df.Congruent, [25,75]))\n",
    "#Interquartile Range\n",
    "print (\"IQR Congruent min - max:\", IQR_range(Q1,Q3))\n",
    "\n",
    "Q1, Q3 = (np.percentile(df.Incongruent, [25,75]))\n",
    "#Interquartile Range\n",
    "print (\"IQR Incongruent min - max:\", IQR_range(Q1,Q3))\n",
    "\n"
   ]
  },
  {
   "cell_type": "markdown",
   "metadata": {},
   "source": [
    "measure of central tendency:\n",
    "\n",
    "Mean: \n",
    "Congruent      14.051125\n",
    "Incongruent    22.015917\n",
    "\n",
    "Median:\n",
    "Congruent: 14.3565\n",
    "Incongruent: 21.0175\n",
    "\n",
    "Measure of variability:\n",
    "Standard deviation of the mean sample (using Bessel's correction: \n",
    "Congruent      3.559358\n",
    "Incongruent    4.797057\n",
    "\n",
    "IQR Congruent min - max: [5.437, 22.659]\n",
    "IQR Incongruent min - max: [10.715, 32.054]\n"
   ]
  },
  {
   "cell_type": "markdown",
   "metadata": {},
   "source": [
    "(4) Provide one or two visualizations that show the distribution of the sample data. Write one or two sentences noting what you observe about the plot or plots."
   ]
  },
  {
   "cell_type": "code",
   "execution_count": 2,
   "metadata": {},
   "outputs": [
    {
     "data": {
      "application/vnd.plotly.v1+json": {
       "data": [
        {
         "type": "histogram",
         "x": [
          12.079,
          16.791,
          9.564,
          8.63,
          14.669,
          12.238,
          14.692,
          8.987,
          9.401,
          14.48,
          22.328000000000003,
          15.298,
          15.073,
          16.929000000000002,
          18.2,
          12.13,
          18.495,
          10.639000000000001,
          11.344000000000001,
          12.369000000000002,
          12.944,
          14.232999999999999,
          19.71,
          16.004
         ]
        }
       ],
       "layout": {}
      },
      "text/html": [
       "<div id=\"a025e17a-c49a-49e5-b16d-eab21ce30c3d\" style=\"height: 525px; width: 100%;\" class=\"plotly-graph-div\"></div><script type=\"text/javascript\">require([\"plotly\"], function(Plotly) { window.PLOTLYENV=window.PLOTLYENV || {};window.PLOTLYENV.BASE_URL=\"https://plot.ly\";Plotly.newPlot(\"a025e17a-c49a-49e5-b16d-eab21ce30c3d\", [{\"type\": \"histogram\", \"x\": [12.079, 16.791, 9.564, 8.63, 14.669, 12.238, 14.692, 8.987, 9.401, 14.48, 22.328000000000003, 15.298, 15.073, 16.929000000000002, 18.2, 12.13, 18.495, 10.639000000000001, 11.344000000000001, 12.369000000000002, 12.944, 14.232999999999999, 19.71, 16.004]}], {}, {\"showLink\": true, \"linkText\": \"Export to plot.ly\"})});</script>"
      ],
      "text/vnd.plotly.v1+html": [
       "<div id=\"a025e17a-c49a-49e5-b16d-eab21ce30c3d\" style=\"height: 525px; width: 100%;\" class=\"plotly-graph-div\"></div><script type=\"text/javascript\">require([\"plotly\"], function(Plotly) { window.PLOTLYENV=window.PLOTLYENV || {};window.PLOTLYENV.BASE_URL=\"https://plot.ly\";Plotly.newPlot(\"a025e17a-c49a-49e5-b16d-eab21ce30c3d\", [{\"type\": \"histogram\", \"x\": [12.079, 16.791, 9.564, 8.63, 14.669, 12.238, 14.692, 8.987, 9.401, 14.48, 22.328000000000003, 15.298, 15.073, 16.929000000000002, 18.2, 12.13, 18.495, 10.639000000000001, 11.344000000000001, 12.369000000000002, 12.944, 14.232999999999999, 19.71, 16.004]}], {}, {\"showLink\": true, \"linkText\": \"Export to plot.ly\"})});</script>"
      ]
     },
     "metadata": {},
     "output_type": "display_data"
    },
    {
     "data": {
      "application/vnd.plotly.v1+json": {
       "data": [
        {
         "type": "histogram",
         "x": [
          19.278,
          18.741,
          21.214000000000002,
          15.687000000000001,
          22.803,
          20.878,
          24.572,
          17.394000000000002,
          20.761999999999997,
          26.281999999999996,
          24.524,
          18.644000000000002,
          17.51,
          20.33,
          35.255,
          22.158,
          25.139,
          20.429000000000002,
          17.425,
          34.288000000000004,
          23.894000000000002,
          17.96,
          22.058000000000003,
          21.156999999999996
         ]
        }
       ],
       "layout": {}
      },
      "text/html": [
       "<div id=\"8a06b700-f1f7-40ea-badb-7679d78a625a\" style=\"height: 525px; width: 100%;\" class=\"plotly-graph-div\"></div><script type=\"text/javascript\">require([\"plotly\"], function(Plotly) { window.PLOTLYENV=window.PLOTLYENV || {};window.PLOTLYENV.BASE_URL=\"https://plot.ly\";Plotly.newPlot(\"8a06b700-f1f7-40ea-badb-7679d78a625a\", [{\"type\": \"histogram\", \"x\": [19.278, 18.741, 21.214000000000002, 15.687000000000001, 22.803, 20.878, 24.572, 17.394000000000002, 20.761999999999997, 26.281999999999996, 24.524, 18.644000000000002, 17.51, 20.33, 35.255, 22.158, 25.139, 20.429000000000002, 17.425, 34.288000000000004, 23.894000000000002, 17.96, 22.058000000000003, 21.156999999999996]}], {}, {\"showLink\": true, \"linkText\": \"Export to plot.ly\"})});</script>"
      ],
      "text/vnd.plotly.v1+html": [
       "<div id=\"8a06b700-f1f7-40ea-badb-7679d78a625a\" style=\"height: 525px; width: 100%;\" class=\"plotly-graph-div\"></div><script type=\"text/javascript\">require([\"plotly\"], function(Plotly) { window.PLOTLYENV=window.PLOTLYENV || {};window.PLOTLYENV.BASE_URL=\"https://plot.ly\";Plotly.newPlot(\"8a06b700-f1f7-40ea-badb-7679d78a625a\", [{\"type\": \"histogram\", \"x\": [19.278, 18.741, 21.214000000000002, 15.687000000000001, 22.803, 20.878, 24.572, 17.394000000000002, 20.761999999999997, 26.281999999999996, 24.524, 18.644000000000002, 17.51, 20.33, 35.255, 22.158, 25.139, 20.429000000000002, 17.425, 34.288000000000004, 23.894000000000002, 17.96, 22.058000000000003, 21.156999999999996]}], {}, {\"showLink\": true, \"linkText\": \"Export to plot.ly\"})});</script>"
      ]
     },
     "metadata": {},
     "output_type": "display_data"
    }
   ],
   "source": [
    "data = df.Congruent\n",
    "h_data = [go.Histogram(x=data)]\n",
    "py.iplot(h_data)\n",
    "\n",
    "data = df.Incongruent\n",
    "h_data = [go.Histogram(x=data)]\n",
    "py.iplot(h_data)"
   ]
  },
  {
   "cell_type": "markdown",
   "metadata": {},
   "source": [
    "The congruent colour words have a more or less normal distribution with a peak at the meading at approximately 14.\n",
    "The incongruent colour words have a positive skewness, the mean is right of the median."
   ]
  },
  {
   "cell_type": "markdown",
   "metadata": {},
   "source": [
    "(5) Now, perform the statistical test and report the results. What is the confidence level and your critical statistic value? Do you reject the null hypothesis or fail to reject it? Come to a conclusion in terms of the experiment task. Did the results match up with your expectations?"
   ]
  },
  {
   "cell_type": "code",
   "execution_count": 12,
   "metadata": {},
   "outputs": [
    {
     "name": "stdout",
     "output_type": "stream",
     "text": [
      "t-value: -8.020706944109957\n",
      "t-critical value: -2.06865761042\n"
     ]
    },
    {
     "data": {
      "text/plain": [
       "Ttest_relResult(statistic=-8.020706944109957, pvalue=4.1030005857111781e-08)"
      ]
     },
     "execution_count": 12,
     "metadata": {},
     "output_type": "execute_result"
    }
   ],
   "source": [
    "#paired sample t-test, two-tailed\n",
    "\n",
    "#1 - Calculate the Differences (Congruent - Incongruent) of each test\n",
    "df_D = df.Congruent - df.Incongruent\n",
    "n = len(df_D)\n",
    "degf = n - 1 #degrees of freedom\n",
    "mn_D = np.mean(df_D)\n",
    "\n",
    "#2 - Calculate the squared deviations difference - ((Differences of Congruent and Incongruent)-Mean difference)^2\n",
    "#3 - Sum the squared deviations difference\n",
    "#4 - Divide it by the number of samples - 1 to achieve the Variance Difference.\n",
    "#5 - Square root the Variance Difference\n",
    "S_D = np.std(df_D,ddof=1)\n",
    "\n",
    "#Then you will have the SDDifference and can calculate the t statistics:\n",
    "t = mn_D / (S_D / n**.5)\n",
    "    \n",
    "print(\"t-value:\",t)\n",
    "\n",
    "alpha = .05\n",
    "t_c = st.t.ppf(alpha/2,degf)\n",
    "\n",
    "print(\"t-critical value:\",t_c)\n",
    "\n",
    "st.ttest_rel(df.Congruent,df.Incongruent)\n"
   ]
  },
  {
   "cell_type": "markdown",
   "metadata": {},
   "source": [
    "The t-value of -8.0207 is far below the t critical value of -2.0687. \n",
    "The p-value is nearly 0 and therefore far below the alpha level of .05 \n",
    "There is a statistical significant difference between the two tests. \n",
    "Therefore I reject the null hypothesis. \n",
    "My conclusion is that reading time slows down significantly for incongruent words which matches up with my expectations."
   ]
  },
  {
   "cell_type": "code",
   "execution_count": null,
   "metadata": {
    "collapsed": true
   },
   "outputs": [],
   "source": []
  }
 ],
 "metadata": {
  "kernelspec": {
   "display_name": "Python 3",
   "language": "python",
   "name": "python3"
  },
  "language_info": {
   "codemirror_mode": {
    "name": "ipython",
    "version": 3
   },
   "file_extension": ".py",
   "mimetype": "text/x-python",
   "name": "python",
   "nbconvert_exporter": "python",
   "pygments_lexer": "ipython3",
   "version": "3.6.2"
  }
 },
 "nbformat": 4,
 "nbformat_minor": 2
}
